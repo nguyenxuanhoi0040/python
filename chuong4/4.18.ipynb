{
 "cells": [
  {
   "cell_type": "code",
   "execution_count": 8,
   "metadata": {},
   "outputs": [
    {
     "name": "stdout",
     "output_type": "stream",
     "text": [
      "0                 None\n",
      "1    rameses@egypt.com\n",
      "2            matt@t.co\n",
      "3    narendra@modi.com\n",
      "dtype: object\n"
     ]
    }
   ],
   "source": [
    "import pandas as pd\n",
    "import re\n",
    "\n",
    "emails = pd.Series(['buying books at amazon.com','rameses@egypt.com','matt@t.co','narendra@modi.com'])\n",
    "pattern = '[A-Za-z0-9._%+-]+@[A-Za-z0-9.-]+\\.[A-Za-z]{2,4}'\n",
    "\n",
    "# Kiểm tra từng chuỗi và trích xuất địa chỉ email hợp lệ\n",
    "valid_emails = [re.search(pattern, email) for email in emails]\n",
    "\n",
    "# Lọc ra các địa chỉ email hợp lệ từ kết quả\n",
    "valid_emails_new = [match.group() if match else None for match in valid_emails]\n",
    "\n",
    "print(pd.Series(valid_emails_new))\n"
   ]
  }
 ],
 "metadata": {
  "kernelspec": {
   "display_name": "Python 3",
   "language": "python",
   "name": "python3"
  },
  "language_info": {
   "codemirror_mode": {
    "name": "ipython",
    "version": 3
   },
   "file_extension": ".py",
   "mimetype": "text/x-python",
   "name": "python",
   "nbconvert_exporter": "python",
   "pygments_lexer": "ipython3",
   "version": "3.6.8"
  }
 },
 "nbformat": 4,
 "nbformat_minor": 2
}
