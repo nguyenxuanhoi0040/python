{
 "cells": [
  {
   "cell_type": "code",
   "execution_count": 1,
   "metadata": {},
   "outputs": [
    {
     "name": "stdout",
     "output_type": "stream",
     "text": [
      "      0   1\n",
      "0     a   0\n",
      "1     b   1\n",
      "2     c   2\n",
      "3     d   3\n",
      "4     e   4\n",
      "5     f   5\n",
      "6     g   6\n",
      "7     h   7\n",
      "8     j   8\n",
      "9     k   9\n",
      "10    l  10\n",
      "11    m  11\n",
      "12    n  12\n",
      "13    o  13\n",
      "14    p  14\n",
      "15    q  15\n",
      "16    r  16\n",
      "17    s  17\n",
      "18    t  18\n",
      "19    u  19\n",
      "20    v  20\n",
      "21    w  21\n",
      "22    x  22\n",
      "23    y  23\n",
      "24    z  24\n",
      "25  NaN  25\n"
     ]
    }
   ],
   "source": [
    "import numpy as np\n",
    "import pandas as pd\n",
    "ser1 = pd.Series(list('abcdefghjklmnopqrstuvwxyz'))\n",
    "ser2 = pd.Series(np.arange(26))\n",
    "df_concat = pd.concat([ser1, ser2],axis=1)\n",
    "print(df_concat)"
   ]
  }
 ],
 "metadata": {
  "kernelspec": {
   "display_name": "Python 3",
   "language": "python",
   "name": "python3"
  },
  "language_info": {
   "codemirror_mode": {
    "name": "ipython",
    "version": 3
   },
   "file_extension": ".py",
   "mimetype": "text/x-python",
   "name": "python",
   "nbconvert_exporter": "python",
   "pygments_lexer": "ipython3",
   "version": "3.6.8"
  }
 },
 "nbformat": 4,
 "nbformat_minor": 2
}
