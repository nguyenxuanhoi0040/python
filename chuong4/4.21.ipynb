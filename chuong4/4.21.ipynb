{
 "cells": [
  {
   "cell_type": "code",
   "execution_count": 6,
   "metadata": {},
   "outputs": [
    {
     "name": "stdout",
     "output_type": "stream",
     "text": [
      "Kiểu dữ liệu:\n",
      "country                          object\n",
      "beer_servings                     int64\n",
      "spirit_servings                   int64\n",
      "wine_servings                     int64\n",
      "total_litres_of_pure_alcohol    float64\n",
      "continent                        object\n",
      "dtype: object\n",
      "\n",
      "Kích thước:\n",
      "(193, 6)\n",
      "\n",
      "Tên các cột:\n",
      "Index(['country', 'beer_servings', 'spirit_servings', 'wine_servings',\n",
      "       'total_litres_of_pure_alcohol', 'continent'],\n",
      "      dtype='object')\n",
      "       country  beer_servings  spirit_servings  wine_servings  \\\n",
      "0  Afghanistan              0                0              0   \n",
      "1      Albania             89              132             54   \n",
      "2      Algeria             25                0             14   \n",
      "3      Andorra            245              138            312   \n",
      "4       Angola            217               57             45   \n",
      "\n",
      "   total_litres_of_pure_alcohol continent  \n",
      "0                           0.0        AS  \n",
      "1                           4.9        EU  \n",
      "2                           0.7        AF  \n",
      "3                          12.4        EU  \n",
      "4                           5.9        AF  \n",
      "       country  beer_servings  spirit_servings  wine_servings  \\\n",
      "188  Venezuela            333              100              3   \n",
      "189    Vietnam            111                2              1   \n",
      "190      Yemen              6                0              0   \n",
      "191     Zambia             32               19              4   \n",
      "192   Zimbabwe             64               18              4   \n",
      "\n",
      "     total_litres_of_pure_alcohol continent  \n",
      "188                           7.7        SA  \n",
      "189                           2.0        AS  \n",
      "190                           0.1        AS  \n",
      "191                           2.5        AF  \n",
      "192                           4.7        AF  \n"
     ]
    }
   ],
   "source": [
    "import pandas as pd\n",
    "drink = pd.read_csv('drinks.csv', index_col=0)\n",
    "\n",
    "print(\"Kiểu dữ liệu:\")\n",
    "print(drink.dtypes)\n",
    "\n",
    "print(\"\\nKích thước:\")\n",
    "print(drink.shape)\n",
    "\n",
    "print(\"\\nTên các cột:\")\n",
    "print(drink.columns)\n",
    "\n",
    "print(drink.head())\n",
    "\n",
    "print(drink.tail())\n"
   ]
  },
  {
   "cell_type": "code",
   "execution_count": 7,
   "metadata": {},
   "outputs": [
    {
     "name": "stdout",
     "output_type": "stream",
     "text": [
      "continent\n",
      "AF    3.007547\n",
      "AS    2.170455\n",
      "EU    8.617778\n",
      "OC    3.381250\n",
      "SA    6.308333\n",
      "Name: total_litres_of_pure_alcohol, dtype: float64\n"
     ]
    }
   ],
   "source": [
    "#2\n",
    "bia_tieu_thu = drink.groupby('continent')['total_litres_of_pure_alcohol'].mean()\n",
    "print(bia_tieu_thu)"
   ]
  },
  {
   "cell_type": "code",
   "execution_count": 8,
   "metadata": {},
   "outputs": [
    {
     "name": "stdout",
     "output_type": "stream",
     "text": [
      "           count        mean        std  min   25%    50%     75%    max\n",
      "continent                                                               \n",
      "AF          53.0   16.264151  38.846419  0.0   1.0    2.0   13.00  233.0\n",
      "AS          44.0    9.068182  21.667034  0.0   0.0    1.0    8.00  123.0\n",
      "EU          45.0  142.222222  97.421738  0.0  59.0  128.0  195.00  370.0\n",
      "OC          16.0   35.625000  64.555790  0.0   1.0    8.5   23.25  212.0\n",
      "SA          12.0   62.416667  88.620189  1.0   3.0   12.0   98.50  221.0\n"
     ]
    }
   ],
   "source": [
    "#3\n",
    "ruou_vang = drink.groupby('continent')['wine_servings'].describe()\n",
    "print(ruou_vang)"
   ]
  },
  {
   "cell_type": "code",
   "execution_count": 10,
   "metadata": {},
   "outputs": [
    {
     "name": "stdout",
     "output_type": "stream",
     "text": [
      "continent\n",
      "AF     61.471698\n",
      "AS     37.045455\n",
      "EU    193.777778\n",
      "OC     89.687500\n",
      "SA    175.083333\n",
      "Name: beer_servings, dtype: float64\n",
      "continent\n",
      "AF     16.264151\n",
      "AS      9.068182\n",
      "EU    142.222222\n",
      "OC     35.625000\n",
      "SA     62.416667\n",
      "Name: wine_servings, dtype: float64\n"
     ]
    }
   ],
   "source": [
    "#4\n",
    "bia = drink.groupby('continent')['beer_servings'].mean()\n",
    "ruou = drink.groupby('continent')['wine_servings'].mean()\n",
    "\n",
    "print(bia)\n",
    "print(ruou)\n"
   ]
  },
  {
   "cell_type": "code",
   "execution_count": 11,
   "metadata": {},
   "outputs": [
    {
     "name": "stdout",
     "output_type": "stream",
     "text": [
      "           beer_servings  wine_servings\n",
      "continent                              \n",
      "AF                  32.0            2.0\n",
      "AS                  17.5            1.0\n",
      "EU                 219.0          128.0\n",
      "OC                  52.5            8.5\n",
      "SA                 162.5           12.0\n"
     ]
    }
   ],
   "source": [
    "#5\n",
    "gt_trung_vi = drink.groupby('continent')[['beer_servings', 'wine_servings']].median()\n",
    "\n",
    "print(gt_trung_vi)\n"
   ]
  },
  {
   "cell_type": "code",
   "execution_count": 12,
   "metadata": {},
   "outputs": [
    {
     "name": "stdout",
     "output_type": "stream",
     "text": [
      "                 mean  max  min\n",
      "continent                      \n",
      "AF          16.339623  152    0\n",
      "AS          60.840909  326    0\n",
      "EU         132.555556  373    0\n",
      "OC          58.437500  254    0\n",
      "SA         114.750000  302   25\n"
     ]
    }
   ],
   "source": [
    "# 6\n",
    "ruou_manh = drink.groupby('continent')['spirit_servings'].agg(['mean', 'max', 'min'])\n",
    "\n",
    "\n",
    "print(ruou_manh)\n"
   ]
  },
  {
   "cell_type": "code",
   "execution_count": 13,
   "metadata": {},
   "outputs": [
    {
     "name": "stdout",
     "output_type": "stream",
     "text": [
      "5 quốc gia tiêu thụ bia nhiều nhất: \n",
      "            country  beer_servings\n",
      "117         Namibia            376\n",
      "45   Czech Republic            361\n",
      "62            Gabon            347\n",
      "65          Germany            346\n",
      "98        Lithuania            343\n",
      "5 quốc gia tiêu thụ bia ít nhất: \n",
      "         country  beer_servings\n",
      "0    Afghanistan              0\n",
      "40  Cook Islands              0\n",
      "79          Iran              0\n",
      "90        Kuwait              0\n",
      "97         Libya              0\n"
     ]
    }
   ],
   "source": [
    "#7\n",
    "sl_bia_tieu_thu = drink.sort_values('beer_servings')\n",
    "\n",
    "#quốc gia tiêu thụ bia nhiều nhất\n",
    "print(\"5 quốc gia tiêu thụ bia nhiều nhất: \")\n",
    "print(sl_bia_tieu_thu[['country', 'beer_servings']].nlargest(5, 'beer_servings'))\n",
    "\n",
    "#quốc gia tiêu thụ bia ít nhất\n",
    "print(\"5 quốc gia tiêu thụ bia ít nhất: \")\n",
    "print(sl_bia_tieu_thu[['country', 'beer_servings']].nsmallest(5, 'beer_servings'))\n"
   ]
  }
 ],
 "metadata": {
  "kernelspec": {
   "display_name": "Python 3",
   "language": "python",
   "name": "python3"
  },
  "language_info": {
   "codemirror_mode": {
    "name": "ipython",
    "version": 3
   },
   "file_extension": ".py",
   "mimetype": "text/x-python",
   "name": "python",
   "nbconvert_exporter": "python",
   "pygments_lexer": "ipython3",
   "version": "3.6.8"
  }
 },
 "nbformat": 4,
 "nbformat_minor": 2
}
