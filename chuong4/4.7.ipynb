{
 "cells": [
  {
   "cell_type": "code",
   "execution_count": 30,
   "metadata": {},
   "outputs": [
    {
     "data": {
      "text/plain": [
       "0         1\n",
       "1     other\n",
       "2     other\n",
       "3         1\n",
       "4         3\n",
       "5         3\n",
       "6         3\n",
       "7         1\n",
       "8         3\n",
       "9         1\n",
       "10    other\n",
       "11        3\n",
       "dtype: object"
      ]
     },
     "execution_count": 30,
     "metadata": {},
     "output_type": "execute_result"
    }
   ],
   "source": [
    "import numpy as np\n",
    "import pandas as pd\n",
    "np.random.RandomState(100)\n",
    "ser = pd.Series(np.random.randint( 1, 5, [12]))\n",
    "counts = ser.value_counts()\n",
    "top_2_e = counts.index[:2]\n",
    "ser[~ser.isin(top_2_e)] = 'other' \n",
    "ser"
   ]
  }
 ],
 "metadata": {
  "kernelspec": {
   "display_name": "Python 3",
   "language": "python",
   "name": "python3"
  },
  "language_info": {
   "codemirror_mode": {
    "name": "ipython",
    "version": 3
   },
   "file_extension": ".py",
   "mimetype": "text/x-python",
   "name": "python",
   "nbconvert_exporter": "python",
   "pygments_lexer": "ipython3",
   "version": "3.6.8"
  }
 },
 "nbformat": 4,
 "nbformat_minor": 2
}
