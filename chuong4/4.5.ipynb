{
 "cells": [
  {
   "cell_type": "code",
   "execution_count": 16,
   "metadata": {},
   "outputs": [
    {
     "name": "stdout",
     "output_type": "stream",
     "text": [
      "0      6.692700\n",
      "1      2.546051\n",
      "2     12.839350\n",
      "3     17.784672\n",
      "4      5.291944\n",
      "5     15.857395\n",
      "6     10.978039\n",
      "7      6.952057\n",
      "8      0.769135\n",
      "9     11.123680\n",
      "10     7.001675\n",
      "11    18.717899\n",
      "12     6.897638\n",
      "13    13.291758\n",
      "14    11.430120\n",
      "15    14.554177\n",
      "16    10.615896\n",
      "17     9.647794\n",
      "18     8.196499\n",
      "19     9.382329\n",
      "20     6.563865\n",
      "21     8.219428\n",
      "22    10.270520\n",
      "23     7.044996\n",
      "24     9.088188\n",
      "dtype: float64\n",
      "Giá trị min: 0.7691351195734182\n",
      "Phần thứ 25: 6.952057232140682\n",
      "Trung vị: 9.382328859484405\n",
      "Phần thứ 75: 11.430119527608753\n",
      "Giá trị max: 18.71789942284208\n"
     ]
    }
   ],
   "source": [
    "import pandas as pd\n",
    "import numpy as np\n",
    "\n",
    "ser = pd.Series(np.random.normal(10, 5, 25))\n",
    "min_ser = ser.min(axis= None)\n",
    "centile_25 = ser.quantile(0.25)# phần centile thứ 25\n",
    "median_ser = ser.median()\n",
    "centile_75 = ser.quantile(0.75)\n",
    "max_ser = ser.max(axis=None)\n",
    "\n",
    "\n",
    "print(ser)\n",
    "print('Giá trị min:',min_ser)\n",
    "print('Phần thứ 25:',centile_25)\n",
    "print('Trung vị:',median_ser)\n",
    "print('Phần thứ 75:',centile_75)\n",
    "print('Giá trị max:',max_ser)\n"
   ]
  }
 ],
 "metadata": {
  "kernelspec": {
   "display_name": "Python 3",
   "language": "python",
   "name": "python3"
  },
  "language_info": {
   "codemirror_mode": {
    "name": "ipython",
    "version": 3
   },
   "file_extension": ".py",
   "mimetype": "text/x-python",
   "name": "python",
   "nbconvert_exporter": "python",
   "pygments_lexer": "ipython3",
   "version": "3.6.8"
  }
 },
 "nbformat": 4,
 "nbformat_minor": 2
}
