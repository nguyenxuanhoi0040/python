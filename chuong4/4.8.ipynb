{
 "cells": [
  {
   "cell_type": "code",
   "execution_count": 41,
   "metadata": {},
   "outputs": [
    {
     "name": "stdout",
     "output_type": "stream",
     "text": [
      "0     A10\n",
      "1      A7\n",
      "2     A10\n",
      "3      A4\n",
      "4      A9\n",
      "5      A4\n",
      "6      A8\n",
      "7      A5\n",
      "8      A2\n",
      "9      A6\n",
      "10     A9\n",
      "11     A3\n",
      "12     A7\n",
      "13     A2\n",
      "14     A8\n",
      "15     A1\n",
      "16     A1\n",
      "17     A6\n",
      "18     A3\n",
      "19     A5\n",
      "dtype: category\n",
      "Categories (10, object): ['A1' < 'A2' < 'A3' < 'A4' ... 'A7' < 'A8' < 'A9' < 'A10']\n"
     ]
    }
   ],
   "source": [
    "import numpy as np\n",
    "import pandas as pd\n",
    "\n",
    "# Tạo Series ngẫu nhiên\n",
    "ser = pd.Series(np.random.random(20))\n",
    "\n",
    "# Chia chuỗi thành 10 phân vị bằng nhau và thay thế giá trị bằng tên phân vị\n",
    "ser = pd.qcut(ser, q=10, labels=[f'A{i}' for i in range(1, 11)])\n",
    "\n",
    "print(ser)"
   ]
  }
 ],
 "metadata": {
  "kernelspec": {
   "display_name": "Python 3",
   "language": "python",
   "name": "python3"
  },
  "language_info": {
   "codemirror_mode": {
    "name": "ipython",
    "version": 3
   },
   "file_extension": ".py",
   "mimetype": "text/x-python",
   "name": "python",
   "nbconvert_exporter": "python",
   "pygments_lexer": "ipython3",
   "version": "3.6.8"
  }
 },
 "nbformat": 4,
 "nbformat_minor": 2
}
