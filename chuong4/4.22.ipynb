{
 "cells": [
  {
   "cell_type": "code",
   "execution_count": 2,
   "metadata": {},
   "outputs": [
    {
     "name": "stdout",
     "output_type": "stream",
     "text": [
      "       date symbol     open     high      low    close   volume\n",
      "0  01-03-19   AMZN  1655.13  1674.26  1651.00  1671.73  4974877\n",
      "1  04-03-19   AMZN  1685.00  1709.43  1674.36  1696.17  6167358\n",
      "2  05-03-19   AMZN  1702.95  1707.80  1689.01  1692.43  3681522\n",
      "3  06-03-19   AMZN  1695.97      NaN      NaN  1668.95  3996001\n",
      "4  07-03-19   AMZN  1667.37  1669.75  1620.51  1625.95  4957017\n",
      "        date symbol     open     high      low    close   volume\n",
      "10  01-03-19   GOOG  1124.90  1142.97  1124.75  1140.99  1450316\n",
      "11  04-03-19   GOOG  1146.99  1158.28  1130.69  1147.80  1446047\n",
      "12  05-03-19   GOOG  1150.06      NaN      NaN  1162.03  1443174\n",
      "13  06-03-19   GOOG  1162.49  1167.57  1155.49  1157.86  1099289\n",
      "14  07-03-19   GOOG  1155.72  1156.76  1134.91  1143.30  1166559\n",
      "kiểu dữ liệu\n",
      "date       object\n",
      "symbol     object\n",
      "open      float64\n",
      "high      float64\n",
      "low       float64\n",
      "close     float64\n",
      "volume      int64\n",
      "dtype: object\n",
      "<class 'pandas.core.frame.DataFrame'>\n",
      "RangeIndex: 15 entries, 0 to 14\n",
      "Data columns (total 7 columns):\n",
      " #   Column  Non-Null Count  Dtype  \n",
      "---  ------  --------------  -----  \n",
      " 0   date    15 non-null     object \n",
      " 1   symbol  15 non-null     object \n",
      " 2   open    15 non-null     float64\n",
      " 3   high    13 non-null     float64\n",
      " 4   low     13 non-null     float64\n",
      " 5   close   15 non-null     float64\n",
      " 6   volume  15 non-null     int64  \n",
      "dtypes: float64(4), int64(1), object(2)\n",
      "memory usage: 968.0+ bytes\n",
      "None\n"
     ]
    }
   ],
   "source": [
    "#1,a\n",
    "import pandas as pd \n",
    "stocks1 = pd.read_csv('stocks1.csv')\n",
    "print(stocks1.head())\n",
    "print(stocks1.tail())\n",
    "print(\"kiểu dữ liệu\")\n",
    "print(stocks1.dtypes)\n",
    "print(stocks1.info())"
   ]
  },
  {
   "cell_type": "code",
   "execution_count": 10,
   "metadata": {},
   "outputs": [
    {
     "name": "stdout",
     "output_type": "stream",
     "text": [
      "       date symbol    open     high     low   close    volume\n",
      "0  01-03-19     FB  162.60  163.132  161.69  162.28  11097770\n",
      "1  04-03-19     FB  163.90  167.500  163.83  167.37  18894689\n",
      "2  05-03-19     FB  167.37  171.880  166.55  171.26  28187890\n",
      "3  06-03-19     FB  172.90  173.570  171.27  172.51  21531723\n",
      "4  07-03-19     FB  171.50  171.740  167.61  169.13  18306504\n",
      "       date symbol    open      high     low   close    volume\n",
      "5  01-03-19   TSLA  306.94  307.1300  291.90  294.79  22911375\n",
      "6  04-03-19   TSLA  298.12  299.0000  282.78  285.36  17096818\n",
      "7  05-03-19   TSLA  282.00  284.0000  270.10  276.54  18764740\n",
      "8  06-03-19   TSLA  276.48  281.5058  274.39  276.24  10335485\n",
      "9  07-03-19   TSLA  278.84  284.7000  274.25  276.59   9442483\n",
      "kiểu dữ liệu\n",
      "date       object\n",
      "symbol     object\n",
      "open      float64\n",
      "high      float64\n",
      "low       float64\n",
      "close     float64\n",
      "volume      int64\n",
      "dtype: object\n",
      "<class 'pandas.core.frame.DataFrame'>\n",
      "RangeIndex: 10 entries, 0 to 9\n",
      "Data columns (total 7 columns):\n",
      " #   Column  Non-Null Count  Dtype  \n",
      "---  ------  --------------  -----  \n",
      " 0   date    10 non-null     object \n",
      " 1   symbol  10 non-null     object \n",
      " 2   open    10 non-null     float64\n",
      " 3   high    10 non-null     float64\n",
      " 4   low     10 non-null     float64\n",
      " 5   close   10 non-null     float64\n",
      " 6   volume  10 non-null     int64  \n",
      "dtypes: float64(4), int64(1), object(2)\n",
      "memory usage: 688.0+ bytes\n",
      "None\n"
     ]
    }
   ],
   "source": [
    "#1,b\n",
    "stocks2 = pd.read_csv('stocks2.csv')\n",
    "print(stocks2.head())\n",
    "print(stocks2.tail())\n",
    "print(\"kiểu dữ liệu\")\n",
    "print(stocks2.dtypes)\n",
    "print(stocks2.info())"
   ]
  },
  {
   "cell_type": "code",
   "execution_count": 22,
   "metadata": {},
   "outputs": [
    {
     "name": "stdout",
     "output_type": "stream",
     "text": [
      "name                  object\n",
      "employees              int64\n",
      "headquarters_city     object\n",
      "headquarters_state    object\n",
      "dtype: object\n",
      "<class 'pandas.core.frame.DataFrame'>\n",
      "RangeIndex: 5 entries, 0 to 4\n",
      "Data columns (total 4 columns):\n",
      " #   Column              Non-Null Count  Dtype \n",
      "---  ------              --------------  ----- \n",
      " 0   name                5 non-null      object\n",
      " 1   employees           5 non-null      int64 \n",
      " 2   headquarters_city   5 non-null      object\n",
      " 3   headquarters_state  5 non-null      object\n",
      "dtypes: int64(1), object(3)\n",
      "memory usage: 288.0+ bytes\n",
      "None\n"
     ]
    }
   ],
   "source": [
    "#1,c\n",
    "companies = pd.read_csv('companies.csv')\n",
    "print(companies.dtypes)\n",
    "print(companies.info())"
   ]
  },
  {
   "cell_type": "code",
   "execution_count": 3,
   "metadata": {},
   "outputs": [
    {
     "name": "stdout",
     "output_type": "stream",
     "text": [
      "Cột chứa giá trị NaN\n",
      "['high', 'low']\n"
     ]
    }
   ],
   "source": [
    "df = pd.DataFrame(stocks1)\n",
    "nan_columns = df.columns[df.isna().any()].tolist()\n",
    "print('Cột chứa giá trị NaN')\n",
    "print(nan_columns)"
   ]
  },
  {
   "cell_type": "code",
   "execution_count": 21,
   "metadata": {},
   "outputs": [
    {
     "name": "stdout",
     "output_type": "stream",
     "text": [
      "15 dòng dữ liệu cuối của stocks:\n",
      "        date symbol     open       high      low    close    volume\n",
      "10  01-03-19   GOOG  1124.90  1142.9700  1124.75  1140.99   1450316\n",
      "11  04-03-19   GOOG  1146.99  1158.2800  1130.69  1147.80   1446047\n",
      "12  05-03-19   GOOG  1150.06  1167.5700  1155.49  1162.03   1443174\n",
      "13  06-03-19   GOOG  1162.49  1167.5700  1155.49  1157.86   1099289\n",
      "14  07-03-19   GOOG  1155.72  1156.7600  1134.91  1143.30   1166559\n",
      "15  01-03-19     FB   162.60   163.1320   161.69   162.28  11097770\n",
      "16  04-03-19     FB   163.90   167.5000   163.83   167.37  18894689\n",
      "17  05-03-19     FB   167.37   171.8800   166.55   171.26  28187890\n",
      "18  06-03-19     FB   172.90   173.5700   171.27   172.51  21531723\n",
      "19  07-03-19     FB   171.50   171.7400   167.61   169.13  18306504\n",
      "20  01-03-19   TSLA   306.94   307.1300   291.90   294.79  22911375\n",
      "21  04-03-19   TSLA   298.12   299.0000   282.78   285.36  17096818\n",
      "22  05-03-19   TSLA   282.00   284.0000   270.10   276.54  18764740\n",
      "23  06-03-19   TSLA   276.48   281.5058   274.39   276.24  10335485\n",
      "24  07-03-19   TSLA   278.84   284.7000   274.25   276.59   9442483\n"
     ]
    }
   ],
   "source": [
    "#3\n",
    "stocks = pd.concat([stocks1, stocks2], ignore_index=True)\n",
    "\n",
    "print(\"15 dòng dữ liệu cuối của stocks:\")\n",
    "print(stocks.tail(15))\n"
   ]
  }
 ],
 "metadata": {
  "kernelspec": {
   "display_name": "Python 3",
   "language": "python",
   "name": "python3"
  },
  "language_info": {
   "codemirror_mode": {
    "name": "ipython",
    "version": 3
   },
   "file_extension": ".py",
   "mimetype": "text/x-python",
   "name": "python",
   "nbconvert_exporter": "python",
   "pygments_lexer": "ipython3",
   "version": "3.6.8"
  }
 },
 "nbformat": 4,
 "nbformat_minor": 2
}
