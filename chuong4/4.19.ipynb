{
 "cells": [
  {
   "cell_type": "code",
   "execution_count": 7,
   "metadata": {},
   "outputs": [
    {
     "name": "stdout",
     "output_type": "stream",
     "text": [
      "[1.0, 2.0, 3.0, 4.0, 5.0, 6.0, 7.0, 8.0, 9.0, 10.0]\n",
      "['carrot', 'apple', 'carrot', 'carrot', 'banana', 'banana', 'carrot', 'apple', 'carrot', 'banana']\n",
      "fruit\n",
      "apple     5.0\n",
      "banana    7.0\n",
      "carrot    4.8\n",
      "Name: weights, dtype: float64\n"
     ]
    }
   ],
   "source": [
    "import numpy as np\n",
    "import pandas as pd \n",
    "fruit = pd.Series(np.random.choice(['apple','banana','carrot'], 10))\n",
    "weights= pd.Series(np.linspace(1, 10, 10))\n",
    "\n",
    "df = pd.DataFrame({'fruit': fruit, 'weights': weights})\n",
    "average_weights = df.groupby('fruit')['weights'].mean()\n",
    "\n",
    "print(weights.tolist())\n",
    "print(fruit.tolist())\n",
    "print(average_weights)"
   ]
  }
 ],
 "metadata": {
  "kernelspec": {
   "display_name": "Python 3",
   "language": "python",
   "name": "python3"
  },
  "language_info": {
   "codemirror_mode": {
    "name": "ipython",
    "version": 3
   },
   "file_extension": ".py",
   "mimetype": "text/x-python",
   "name": "python",
   "nbconvert_exporter": "python",
   "pygments_lexer": "ipython3",
   "version": "3.6.8"
  }
 },
 "nbformat": 4,
 "nbformat_minor": 2
}
