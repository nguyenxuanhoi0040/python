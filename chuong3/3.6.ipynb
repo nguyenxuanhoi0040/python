{
 "cells": [
  {
   "cell_type": "code",
   "execution_count": 1,
   "metadata": {},
   "outputs": [
    {
     "name": "stdout",
     "output_type": "stream",
     "text": [
      "arr:\n",
      " [[ True  True  True]\n",
      " [ True  True  True]\n",
      " [ True  True  True]]\n",
      "arr_2D (sau khi đổi cột 1 và cột 3):\n",
      " [[2 1 0]\n",
      " [5 4 3]\n",
      " [8 7 6]]\n",
      "arr_2D (sau khi đổi dòng 1 và dòng 2):\n",
      " [[5 4 3]\n",
      " [2 1 0]\n",
      " [8 7 6]]\n",
      "arr_2D (sau khi đảo ngược dòng):\n",
      " [[8 7 6]\n",
      " [2 1 0]\n",
      " [5 4 3]]\n",
      "arr_2D (sau khi đảo ngược cột):\n",
      " [[6 7 8]\n",
      " [0 1 2]\n",
      " [3 4 5]]\n",
      "Có giá trị null trong array không? True\n",
      "arr_2D_null (sau khi thay thế giá trị null bằng 0):\n",
      " [[1. 2. 3.]\n",
      " [0. 5. 6.]\n",
      " [7. 0. 9.]\n",
      " [4. 5. 6.]]\n"
     ]
    }
   ],
   "source": [
    "import numpy as np\n",
    "\n",
    "# 1. Tạo array arr có kích thước 3x3 với các giá trị True\n",
    "arr = np.full((3, 3), True, dtype=bool)\n",
    "print(\"arr:\\n\", arr)\n",
    "\n",
    "# 2. Cho arr_1D và tạo array 2 chiều có kích thước 3x3 từ arr_1D, và lưu vào arr_2D\n",
    "arr_1D = np.array([0, 1, 2, 3, 4, 5, 6, 7, 8])\n",
    "arr_2D = arr_1D.reshape(3, 3)\n",
    "\n",
    "# Chuyển cột 1 sang cột 3 và ngược lại\n",
    "arr_2D[:, [0, 2]] = arr_2D[:, [2, 0]]\n",
    "print(\"arr_2D (sau khi đổi cột 1 và cột 3):\\n\", arr_2D)\n",
    "\n",
    "# 3. Từ arr_2D của câu 2, chuyển dòng 1 sang dòng 2 và ngược lại\n",
    "arr_2D[[0, 1], :] = arr_2D[[1, 0], :]\n",
    "print(\"arr_2D (sau khi đổi dòng 1 và dòng 2):\\n\", arr_2D)\n",
    "\n",
    "# 4. Từ arr_2D của câu 3, đảo ngược các dòng của arr_2D\n",
    "arr_2D = arr_2D[::-1, :]\n",
    "print(\"arr_2D (sau khi đảo ngược dòng):\\n\", arr_2D)\n",
    "\n",
    "# 5. Từ arr_2D của câu 4, đảo ngược các cột của arr_2D\n",
    "arr_2D = arr_2D[:, ::-1]\n",
    "print(\"arr_2D (sau khi đảo ngược cột):\\n\", arr_2D)\n",
    "\n",
    "# 6. Cho arr_2D_null và kiểm tra trong array có giá trị rỗng không\n",
    "arr_2D_null = np.array([[1, 2, 3], [np.NaN, 5, 6], [7, np.NaN, 9], [4, 5, 6]])\n",
    "has_null_values = np.isnan(arr_2D_null).any()\n",
    "print(\"Có giá trị null trong array không?\", has_null_values)\n",
    "\n",
    "# 7. Từ arr_2D_null của câu 6, thay thế giá trị null bằng 0\n",
    "arr_2D_null[np.isnan(arr_2D_null)] = 0\n",
    "print(\"arr_2D_null (sau khi thay thế giá trị null bằng 0):\\n\", arr_2D_null)\n"
   ]
  }
 ],
 "metadata": {
  "kernelspec": {
   "display_name": "Python 3",
   "language": "python",
   "name": "python3"
  },
  "language_info": {
   "codemirror_mode": {
    "name": "ipython",
    "version": 3
   },
   "file_extension": ".py",
   "mimetype": "text/x-python",
   "name": "python",
   "nbconvert_exporter": "python",
   "pygments_lexer": "ipython3",
   "version": "3.6.8"
  }
 },
 "nbformat": 4,
 "nbformat_minor": 2
}
